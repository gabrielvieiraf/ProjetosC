{
  "nbformat": 4,
  "nbformat_minor": 0,
  "metadata": {
    "colab": {
      "name": "C/C++ no Google Colab.ipynb",
      "provenance": [],
      "collapsed_sections": [],
      "authorship_tag": "ABX9TyPqEEGQY8/JVfDwNqkb9zuY",
      "include_colab_link": true
    },
    "kernelspec": {
      "name": "python3",
      "display_name": "Python 3"
    }
  },
  "cells": [
    {
      "cell_type": "markdown",
      "metadata": {
        "id": "view-in-github",
        "colab_type": "text"
      },
      "source": [
        "<a href=\"https://colab.research.google.com/github/gabrielvieiraf/ProjetosC/blob/master/GoogleColab/C_C%2B%2B_no_GoogleColab.ipynb\" target=\"_parent\"><img src=\"https://colab.research.google.com/assets/colab-badge.svg\" alt=\"Open In Colab\"/></a>"
      ]
    },
    {
      "cell_type": "markdown",
      "metadata": {
        "id": "EAngtGdk9_5N"
      },
      "source": [
        "> # **Rodando C/C++ no Google Colab**"
      ]
    },
    {
      "cell_type": "code",
      "metadata": {
        "colab": {
          "base_uri": "https://localhost:8080/"
        },
        "id": "ozts3dUg-OY2",
        "outputId": "86c0ff8c-0a5b-4ffb-bb37-93a0b582d924"
      },
      "source": [
        "%%writefile test.cpp\r\n",
        "\r\n",
        "#include <stdio.h>\r\n",
        "#include <stdlib.h>\r\n",
        "#include <string.h>\r\n",
        "\r\n",
        "int main()\r\n",
        "{\r\n",
        "  int i;\r\n",
        "  scanf(\"%i\", &i);\r\n",
        "  printf(\"%i\", i);\r\n",
        "}"
      ],
      "execution_count": 52,
      "outputs": [
        {
          "output_type": "stream",
          "text": [
            "Overwriting test.cpp\n"
          ],
          "name": "stdout"
        }
      ]
    },
    {
      "cell_type": "code",
      "metadata": {
        "colab": {
          "base_uri": "https://localhost:8080/"
        },
        "id": "uMcZVrfS9kpZ",
        "outputId": "46d24423-111e-4ff2-a965-af95e8052a95"
      },
      "source": [
        "%%script bash\r\n",
        "\r\n",
        "g++ test.cpp -o test\r\n",
        "ls -laX\r\n",
        "echo 9 | ./test"
      ],
      "execution_count": 54,
      "outputs": [
        {
          "output_type": "stream",
          "text": [
            "total 32\n",
            "drwxr-xr-x 1 root root 4096 Mar  1 14:35 sample_data\n",
            "-rwxr-xr-x 1 root root 8400 Mar  2 22:59 test\n",
            "drwxr-xr-x 1 root root 4096 Mar  2 22:59 .\n",
            "drwxr-xr-x 1 root root 4096 Mar  2 22:22 ..\n",
            "drwxr-xr-x 4 root root 4096 Mar  1 14:35 .config\n",
            "-rw-r--r-- 1 root root  122 Mar  2 22:59 test.cpp\n",
            "9"
          ],
          "name": "stdout"
        }
      ]
    }
  ]
}